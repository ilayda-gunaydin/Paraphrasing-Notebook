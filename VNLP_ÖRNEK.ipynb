{
  "nbformat": 4,
  "nbformat_minor": 0,
  "metadata": {
    "colab": {
      "provenance": [],
      "authorship_tag": "ABX9TyMPPJMa4HYsNR9HzqZ5UDqh",
      "include_colab_link": true
    },
    "kernelspec": {
      "name": "python3",
      "display_name": "Python 3"
    },
    "language_info": {
      "name": "python"
    }
  },
  "cells": [
    {
      "cell_type": "markdown",
      "metadata": {
        "id": "view-in-github",
        "colab_type": "text"
      },
      "source": [
        "<a href=\"https://colab.research.google.com/github/ilayda-gunaydin/Staj-Notebook/blob/main/VNLP_%C3%96RNEK.ipynb\" target=\"_parent\"><img src=\"https://colab.research.google.com/assets/colab-badge.svg\" alt=\"Open In Colab\"/></a>"
      ]
    },
    {
      "cell_type": "code",
      "source": [
        "#İsim olanları paraphrase\n",
        "\n",
        "from WordNet.WordNet import WordNet\n",
        "import random\n",
        "from vnlp import PoSTagger\n",
        "\n",
        "def paraphrase_isim(cumle):\n",
        "    # Cümleyi part of speech'lerine ayır\n",
        "    pos_tagger = PoSTagger()\n",
        "    pos_tags = pos_tagger.predict(cumle)\n",
        "    print(pos_tags)\n",
        "\n",
        "    # Sadece isimleri al\n",
        "    isim_listesi = [pos_tag[0] for pos_tag in pos_tags if pos_tag[1] == \"NOUN\"]\n",
        "    print(isim_listesi)\n",
        "\n",
        "    # WordNet nesnesini oluşturma\n",
        "    wordnet = WordNet()\n",
        "\n",
        "    paraphrased_sentence = []\n",
        "    for kelime in cumle.split():\n",
        "        # Kelimenin eşanlamlılarını bulma ve paraphrase etme\n",
        "        if kelime in isim_listesi:\n",
        "            synonyms = get_synonyms(kelime, wordnet)\n",
        "            if synonyms:\n",
        "                paraphrased_word = random.choice(synonyms)\n",
        "                paraphrased_sentence.append(paraphrased_word)\n",
        "            else:\n",
        "                paraphrased_sentence.append(kelime)\n",
        "        else:\n",
        "            paraphrased_sentence.append(kelime)\n",
        "\n",
        "    # Paraphrase edilmiş cümleyi birleştirme\n",
        "    return ' '.join(paraphrased_sentence)\n",
        "\n",
        "def get_synonyms(word, wordnet):\n",
        "    synsets = wordnet.getSynSetsWithLiteral(word)\n",
        "    if not synsets:\n",
        "        return []\n",
        "\n",
        "    synonyms = synsets[0].getSynonym()\n",
        "    synonym_list = []\n",
        "    for i in range(synonyms.literalSize()):\n",
        "        literal = synonyms.getLiteral(i)\n",
        "        synonym_list.append(literal.getName())\n",
        "\n",
        "    return synonym_list\n",
        "\n",
        "# Örnek kullanım\n",
        "original_sentence = \"Kitap, kütüphanede birçok farklı türde metin bulunduran bir kaynaktır.\"\n",
        "paraphrased_sentence = paraphrase_isim(original_sentence)\n",
        "print(\"Original Sentence:\", original_sentence)\n",
        "print(\"Paraphrased Sentence:\", paraphrased_sentence)\n"
      ],
      "metadata": {
        "colab": {
          "base_uri": "https://localhost:8080/"
        },
        "id": "a9GsNPatPdPn",
        "outputId": "81e436d3-32df-4ee6-9781-cca07bfda328"
      },
      "execution_count": null,
      "outputs": [
        {
          "output_type": "stream",
          "name": "stdout",
          "text": [
            "[('Kitap', 'NOUN'), (',', 'PUNCT'), ('kütüphanede', 'NOUN'), ('birçok', 'DET'), ('farklı', 'ADJ'), ('türde', 'NOUN'), ('metin', 'NOUN'), ('bulunduran', 'ADJ'), ('bir', 'DET'), ('kaynaktır', 'VERB'), ('.', 'PUNCT')]\n",
            "['Kitap', 'kütüphanede', 'türde', 'metin']\n",
            "Original Sentence: Kitap, kütüphanede birçok farklı türde metin bulunduran bir kaynaktır.\n",
            "Paraphrased Sentence: Kitap, kütüphanede birçok farklı türde tekst bulunduran bir kaynaktır.\n"
          ]
        }
      ]
    },
    {
      "cell_type": "code",
      "source": [
        "#Sıfat olanları paraphrase\n",
        "\n",
        "from WordNet.WordNet import WordNet\n",
        "import random\n",
        "from vnlp import PoSTagger\n",
        "\n",
        "def paraphrase_adj(sentence):\n",
        "    # Cümleyi part of speech'lerine ayır\n",
        "    pos_tagger = PoSTagger()\n",
        "    pos_tags = pos_tagger.predict(sentence)\n",
        "    print(pos_tags)\n",
        "\n",
        "    # Sadece sıfatları al\n",
        "    adj_list = [pos_tag[0] for pos_tag in pos_tags if pos_tag[1] == \"ADJ\"]\n",
        "    print(adj_list)\n",
        "\n",
        "    # WordNet nesnesini oluştur\n",
        "    wordnet = WordNet()\n",
        "\n",
        "    paraphrased_sentence = []\n",
        "    for word in sentence.split():\n",
        "        # Kelimenin eşanlamlılarını bulma ve paraphrase etme\n",
        "        if word in adj_list:\n",
        "            synonyms = get_synonyms(word, wordnet)\n",
        "            if synonyms:\n",
        "                paraphrased_word = random.choice(synonyms)\n",
        "                paraphrased_sentence.append(paraphrased_word)\n",
        "            else:\n",
        "                paraphrased_sentence.append(word)\n",
        "        else:\n",
        "            paraphrased_sentence.append(word)\n",
        "\n",
        "    # Paraphrase edilmiş cümleyi birleştirme\n",
        "    return ' '.join(paraphrased_sentence)\n",
        "\n",
        "def get_synonyms(word, wordnet):\n",
        "    synsets = wordnet.getSynSetsWithLiteral(word)\n",
        "    if not synsets:\n",
        "        return []\n",
        "\n",
        "    synonyms = synsets[0].getSynonym()\n",
        "    synonym_list = []\n",
        "    for i in range(synonyms.literalSize()):\n",
        "        literal = synonyms.getLiteral(i)\n",
        "        synonym_list.append(literal.getName())\n",
        "\n",
        "    return synonym_list\n",
        "\n",
        "# Örnek kullanım\n",
        "original_sentence = \"Araba, hızlı bir şekilde ilerliyordu.\"\n",
        "paraphrased_sentence = paraphrase_adj(original_sentence)\n",
        "print(\"Original Sentence:\", original_sentence)\n",
        "print(\"Paraphrased Sentence:\", paraphrased_sentence)\n"
      ],
      "metadata": {
        "colab": {
          "base_uri": "https://localhost:8080/"
        },
        "id": "Bh-shdJ8PUgM",
        "outputId": "24357ee7-ac9b-4864-a484-673a6bc17390"
      },
      "execution_count": null,
      "outputs": [
        {
          "output_type": "stream",
          "name": "stdout",
          "text": [
            "Requirement already satisfied: NlpToolkit-WordNet in /usr/local/lib/python3.10/dist-packages (1.0.24)\n",
            "Requirement already satisfied: NlpToolkit-MorphologicalAnalysis in /usr/local/lib/python3.10/dist-packages (from NlpToolkit-WordNet) (1.0.47)\n",
            "Requirement already satisfied: NlpToolkit-Dictionary in /usr/local/lib/python3.10/dist-packages (from NlpToolkit-MorphologicalAnalysis->NlpToolkit-WordNet) (1.0.34)\n",
            "Requirement already satisfied: NlpToolkit-Corpus in /usr/local/lib/python3.10/dist-packages (from NlpToolkit-MorphologicalAnalysis->NlpToolkit-WordNet) (1.0.25)\n",
            "Requirement already satisfied: NlpToolkit-DataStructure in /usr/local/lib/python3.10/dist-packages (from NlpToolkit-MorphologicalAnalysis->NlpToolkit-WordNet) (1.0.14)\n",
            "Requirement already satisfied: NlpToolkit-Math in /usr/local/lib/python3.10/dist-packages (from NlpToolkit-Dictionary->NlpToolkit-MorphologicalAnalysis->NlpToolkit-WordNet) (1.0.18)\n",
            "[('Araba', 'NOUN'), (',', 'PUNCT'), ('hızlı', 'ADJ'), ('bir', 'DET'), ('şekilde', 'NOUN'), ('ilerliyordu', 'VERB'), ('.', 'PUNCT')]\n",
            "['hızlı']\n",
            "Original Sentence: Araba, hızlı bir şekilde ilerliyordu.\n",
            "Paraphrased Sentence: Araba, süratli bir şekilde ilerliyordu.\n"
          ]
        }
      ]
    }
  ]
}