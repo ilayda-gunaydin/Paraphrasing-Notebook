{
  "nbformat": 4,
  "nbformat_minor": 0,
  "metadata": {
    "colab": {
      "provenance": [],
      "authorship_tag": "ABX9TyO4bEgCYTNziXBdAnnCIsyP",
      "include_colab_link": true
    },
    "kernelspec": {
      "name": "python3",
      "display_name": "Python 3"
    },
    "language_info": {
      "name": "python"
    }
  },
  "cells": [
    {
      "cell_type": "markdown",
      "metadata": {
        "id": "view-in-github",
        "colab_type": "text"
      },
      "source": [
        "<a href=\"https://colab.research.google.com/github/ilayda-gunaydin/Paraphrasing-Notebook/blob/main/Paraphrasing2.ipynb\" target=\"_parent\"><img src=\"https://colab.research.google.com/assets/colab-badge.svg\" alt=\"Open In Colab\"/></a>"
      ]
    },
    {
      "cell_type": "code",
      "execution_count": null,
      "metadata": {
        "colab": {
          "base_uri": "https://localhost:8080/"
        },
        "id": "2tfrAxmB-cIR",
        "outputId": "7d1f050f-bcec-4bce-c4bb-0ce21c1edb98"
      },
      "outputs": [
        {
          "output_type": "stream",
          "name": "stdout",
          "text": [
            "Requirement already satisfied: NlpToolkit-WordNet in /usr/local/lib/python3.10/dist-packages (1.0.24)\n",
            "Requirement already satisfied: NlpToolkit-MorphologicalAnalysis in /usr/local/lib/python3.10/dist-packages (from NlpToolkit-WordNet) (1.0.47)\n",
            "Requirement already satisfied: NlpToolkit-Dictionary in /usr/local/lib/python3.10/dist-packages (from NlpToolkit-MorphologicalAnalysis->NlpToolkit-WordNet) (1.0.34)\n",
            "Requirement already satisfied: NlpToolkit-Corpus in /usr/local/lib/python3.10/dist-packages (from NlpToolkit-MorphologicalAnalysis->NlpToolkit-WordNet) (1.0.25)\n",
            "Requirement already satisfied: NlpToolkit-DataStructure in /usr/local/lib/python3.10/dist-packages (from NlpToolkit-MorphologicalAnalysis->NlpToolkit-WordNet) (1.0.14)\n",
            "Requirement already satisfied: NlpToolkit-Math in /usr/local/lib/python3.10/dist-packages (from NlpToolkit-Dictionary->NlpToolkit-MorphologicalAnalysis->NlpToolkit-WordNet) (1.0.18)\n",
            "Original Sentence:  Mesaj, genellikle bir kütüphane veya bir uygulama tarafından oluşturulur  \n",
            "Paraphrased Sentence: Mesaj, ekseri 1 kütüphane yahut 1 tatbik tarafından oluşturulur\n"
          ]
        }
      ],
      "source": [
        "!pip install NlpToolkit-WordNet\n",
        "\n",
        "from WordNet.WordNet import WordNet\n",
        "import random\n",
        "\n",
        "def paraphrase_sentence(sentence):\n",
        "    # WordNet nesnesini oluşturma\n",
        "    wordnet = WordNet()\n",
        "\n",
        "    # Cümlenin kelimelerine ayırma\n",
        "    words = sentence.split()\n",
        "\n",
        "    paraphrased_sentence = []\n",
        "    for word in words:\n",
        "        # Kelimenin eşanlamlılarını bulma\n",
        "        synonyms = get_synonyms(word, wordnet)\n",
        "        if synonyms:\n",
        "            # Eşanlamlılardan rastgele birini seçme\n",
        "            paraphrased_word = random.choice(synonyms)\n",
        "            paraphrased_sentence.append(paraphrased_word)\n",
        "        else:\n",
        "            # Eşanlamlı bulunamadıysa aynı kelimeyi kullanma\n",
        "            paraphrased_sentence.append(word)\n",
        "\n",
        "    # Paraphrase edilmiş cümleyi birleştirme\n",
        "    return ' '.join(paraphrased_sentence)\n",
        "\n",
        "def get_synonyms(word, wordnet):\n",
        "    # Belirli bir kelime için eşanlamlı kümeleri alma\n",
        "    synsets = wordnet.getSynSetsWithLiteral(word)\n",
        "    if not synsets:\n",
        "        return []  # Eşanlamlı küme bulunamadıysa boş liste döndür\n",
        "\n",
        "    # İlk eşanlamlı kümenin eşanlamlılarını alma\n",
        "    synonyms = synsets[0].getSynonym()\n",
        "\n",
        "    # Eşanlamlıları listelemek için bir liste oluşturma\n",
        "    synonym_list = []\n",
        "    for i in range(synonyms.literalSize()):\n",
        "        literal = synonyms.getLiteral(i)\n",
        "        synonym_list.append(literal.getName())\n",
        "\n",
        "    return synonym_list\n",
        "\n",
        "# Örnek kullanım\n",
        "original_sentence = \" Mesaj, genellikle bir kütüphane veya bir uygulama tarafından oluşturulur  \"\n",
        "paraphrased_sentence = paraphrase_sentence(original_sentence)\n",
        "print(\"Original Sentence:\", original_sentence)\n",
        "print(\"Paraphrased Sentence:\", paraphrased_sentence)\n"
      ]
    },
    {
      "cell_type": "code",
      "source": [
        "import json\n",
        "import random\n",
        "\n",
        "# Google Drive'a bağlanmak için gerekli kütüphane\n",
        "from google.colab import drive\n",
        "\n",
        "# Google Drive'a bağlan\n",
        "drive.mount('/content/drive')\n",
        "\n",
        "# Veri setini yükleme ve işleme adımları burada yapılacak\n",
        "# Örnek olarak, eş anlamlı kelimelerin bulunduğu JSON dosyasını okuyabilirsiniz\n",
        "def load_synonym_dataset(dataset_path):\n",
        "    with open(dataset_path, 'r') as file:\n",
        "        synonym_dataset = json.load(file)\n",
        "    return synonym_dataset\n",
        "\n",
        "# Paraphrase işlemini gerçekleştirme\n",
        "def paraphrase_text(input_text, synonym_dataset):\n",
        "    # input_text: Paraphrase edilecek metin\n",
        "    # synonym_dataset: Eş anlamlı kelimelerin bulunduğu veri seti\n",
        "\n",
        "    # Paraphrase işlemi burada gerçekleştirilecek\n",
        "    words = input_text.split()\n",
        "    paraphrased_words = []\n",
        "    for word in words:\n",
        "        synonyms = synonym_dataset.get(word, [])\n",
        "        if synonyms:\n",
        "            # Eş anlamlı kelimeler arasından rastgele birini seç\n",
        "            paraphrased_word = random.choice(synonyms)\n",
        "            paraphrased_words.append(paraphrased_word)\n",
        "        else:\n",
        "            # Eş anlamlı kelime bulunamazsa aynı kelimeyi kullan\n",
        "            paraphrased_words.append(word)\n",
        "    return ' '.join(paraphrased_words)\n",
        "\n",
        "# Örnek kullanım\n",
        "input_text = \"Kitap, kütüphanede birçok farklı türde metin bulunduran bir kaynaktır.\"\n",
        "synonym_dataset_path = \"/content/drive/MyDrive/synonyms.json\"  # Veri setinin yolunu belirtin\n",
        "synonym_dataset = load_synonym_dataset(synonym_dataset_path)\n",
        "paraphrased_text = paraphrase_text(input_text, synonym_dataset)\n",
        "print(\"Paraphrase Edilmiş Metin:\", paraphrased_text)\n"
      ],
      "metadata": {
        "colab": {
          "base_uri": "https://localhost:8080/"
        },
        "id": "aRxl_mf18Wrk",
        "outputId": "3ba6f499-20b4-4d0f-c1ac-dd6ff092de7c"
      },
      "execution_count": null,
      "outputs": [
        {
          "output_type": "stream",
          "name": "stdout",
          "text": [
            "Drive already mounted at /content/drive; to attempt to forcibly remount, call drive.mount(\"/content/drive\", force_remount=True).\n",
            "Paraphrase Edilmiş Metin: Kitap, kütüphanede kaç başka türde metanetli bulunduran sadece kaynaktır.\n"
          ]
        }
      ]
    }
  ]
}