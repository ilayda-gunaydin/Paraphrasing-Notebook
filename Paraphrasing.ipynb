{
  "nbformat": 4,
  "nbformat_minor": 0,
  "metadata": {
    "colab": {
      "provenance": [],
      "authorship_tag": "ABX9TyMLAePmHVmLDYxYids8jrce",
      "include_colab_link": true
    },
    "kernelspec": {
      "name": "python3",
      "display_name": "Python 3"
    },
    "language_info": {
      "name": "python"
    }
  },
  "cells": [
    {
      "cell_type": "markdown",
      "metadata": {
        "id": "view-in-github",
        "colab_type": "text"
      },
      "source": [
        "<a href=\"https://colab.research.google.com/github/ilayda-gunaydin/Paraphrasing-Notebook/blob/main/Paraphrasing.ipynb\" target=\"_parent\"><img src=\"https://colab.research.google.com/assets/colab-badge.svg\" alt=\"Open In Colab\"/></a>"
      ]
    },
    {
      "cell_type": "code",
      "execution_count": null,
      "metadata": {
        "colab": {
          "base_uri": "https://localhost:8080/"
        },
        "id": "eWhgCKOrz4AB",
        "outputId": "c730a782-be5b-4b50-d078-ceced98d1353"
      },
      "outputs": [
        {
          "output_type": "stream",
          "name": "stdout",
          "text": [
            "tutumlu\n",
            "idareci\n",
            "muktesit\n",
            "idareli\n"
          ]
        }
      ],
      "source": [
        "from WordNet.WordNet import WordNet\n",
        "\n",
        "a = WordNet()\n",
        "x = a.getSynSetsWithLiteral(\"tutumlu\")\n",
        "x = x[0]\n",
        "\n",
        "synonym = x.getSynonym()\n",
        "for i in range(synonym.literalSize()):\n",
        "  literal = synonym.getLiteral(i)\n",
        "  print(literal.getName())"
      ]
    },
    {
      "cell_type": "code",
      "source": [
        "import requests\n",
        "import random\n",
        "\n",
        "def get_synonyms(word):\n",
        "    try:\n",
        "        headers = {\"User-Agent\": \"Mozilla/5.0 (Windows NT 10.0; Win64; x64) AppleWebKit/537\"}\n",
        "        url = f\"https://sozluk.gov.tr/gts?ara={word}\"\n",
        "        r = requests.get(url, headers=headers)\n",
        "        data = r.json()\n",
        "        synonyms = [meaning['anlam'] for meaning in data[0]['anlamlarListe']]\n",
        "        return synonyms\n",
        "    except Exception as e:\n",
        "        return []\n",
        "\n",
        "def paraphrase(text):\n",
        "    words = text.split()\n",
        "    paraphrased_words = []\n",
        "    for word in words:\n",
        "        synonyms = get_synonyms(word)\n",
        "        if synonyms:\n",
        "            paraphrased_word = random.choice(synonyms)\n",
        "            paraphrased_words.append(paraphrased_word)\n",
        "        else:\n",
        "            paraphrased_words.append(word)\n",
        "    return ' '.join(paraphrased_words)\n",
        "\n",
        "# Özgün Türkçe metin\n",
        "original_text = \"Sen çok akıllı bir kızsın \"\n",
        "\n",
        "# Metni paraphrase et\n",
        "paraphrased_text = paraphrase(original_text)\n",
        "\n",
        "# Sonucu yazdır\n",
        "print(\"Özgün Metin:\", original_text)\n",
        "print(\"Paraphrase Edilmiş Metin:\", paraphrased_text)\n"
      ],
      "metadata": {
        "colab": {
          "base_uri": "https://localhost:8080/"
        },
        "id": "n_wBapHnnZg6",
        "outputId": "f55e585d-4c5b-42fa-f32a-6399a54b52e0"
      },
      "execution_count": null,
      "outputs": [
        {
          "output_type": "stream",
          "name": "stdout",
          "text": [
            "Özgün Metin: Sen çok akıllı bir kızsın \n",
            "Paraphrase Edilmiş Metin: Teklik ikinci kişiyi gösteren söz Aşırı bir biçimde; fena (I) Karşısındakini küçümseme amacıyla söylenen bir söz ► yalnızca kızsın\n"
          ]
        }
      ]
    },
    {
      "cell_type": "code",
      "source": [
        "from WordNet.WordNet import WordNet\n",
        "\n",
        "wordnet = WordNet()\n",
        "\n",
        "def get_best_synonym(word):\n",
        "    syn_sets = wordnet.getSynSetsWithLiteral(word)\n",
        "    if syn_sets:\n",
        "        best_synonym = syn_sets[0].getSynonym()  # İlk eş anlamlıyı al\n",
        "        if best_synonym.literalSize() > 0:\n",
        "            return best_synonym.getLiteral(0).getName()  # İlk eş anlamlı kelimeyi döndür\n",
        "    return word  # Eş anlamlı kelime yoksa aynı kelimeyi döndür\n",
        "\n",
        "def paraphrase_sentence(sentence):\n",
        "    words = sentence.split()\n",
        "    paraphrased_sentence = []\n",
        "    for word in words:\n",
        "        best_synonym = get_best_synonym(word)\n",
        "        paraphrased_sentence.append(best_synonym)\n",
        "    return ' '.join(paraphrased_sentence)\n",
        "\n",
        "# Paraphrase edilecek cümle\n",
        "original_sentence = \"yaşlı kadın ağladı\"\n",
        "\n",
        "# Cümleyi eş anlamlılarıyla paraphrase et\n",
        "paraphrased_sentence = paraphrase_sentence(original_sentence)\n",
        "\n",
        "# Sonucu yazdır\n",
        "print(\"Paraphrase Edilmiş Cümle:\")\n",
        "print(paraphrased_sentence)\n",
        "\n"
      ],
      "metadata": {
        "id": "N6ggDjIKBKe3"
      },
      "execution_count": null,
      "outputs": []
    },
    {
      "cell_type": "code",
      "source": [
        "import random\n",
        "\n",
        "def paraphrase_by_rearranging(sentence):\n",
        "    # Cümlenin kelimelerine ayır\n",
        "    words = sentence.split()\n",
        "\n",
        "    # Eğer cümlede sadece bir kelime varsa, aynı cümleyi döndür\n",
        "    if len(words) <= 1:\n",
        "        return sentence\n",
        "\n",
        "    # İlk ve son kelimeyi değiştirmeyeceğiz, dolayısıyla aradaki kelimeleri karıştır\n",
        "    middle_words = words[1:-1]\n",
        "    random.shuffle(middle_words)\n",
        "\n",
        "    # Paraphrase edilmiş cümleyi oluştur\n",
        "    paraphrased_sentence = words[0] + ' ' + ' '.join(middle_words) + ' ' + words[-1]\n",
        "\n",
        "    return paraphrased_sentence\n",
        "\n",
        "input_sentence = \"Köpeğim oyun oynamayı çok seviyor.\"\n",
        "paraphrased_sentence = paraphrase_by_rearranging(input_sentence)\n",
        "print(\"Original Sentence:\", input_sentence)\n",
        "print(\"Paraphrased Sentence:\", paraphrased_sentence)"
      ],
      "metadata": {
        "colab": {
          "base_uri": "https://localhost:8080/"
        },
        "id": "qIRDDcOOY45z",
        "outputId": "dc4d98f7-dd34-4618-86ff-f8eb3828ac7f"
      },
      "execution_count": null,
      "outputs": [
        {
          "output_type": "stream",
          "name": "stdout",
          "text": [
            "Original Sentence: Köpeğim oyun oynamayı çok seviyor.\n",
            "Paraphrased Sentence: Köpeğim çok oynamayı oyun seviyor.\n"
          ]
        }
      ]
    },
    {
      "cell_type": "code",
      "source": [
        "from WordNet.WordNet import WordNet\n",
        "import random\n",
        "\n",
        "def paraphrase_sentence(sentence):\n",
        "    # WordNet nesnesini oluşturma\n",
        "    wordnet = WordNet()\n",
        "\n",
        "    # Cümlenin kelimelerine ayırma\n",
        "    words = sentence.split()\n",
        "\n",
        "    paraphrased_sentence = []\n",
        "    for word in words:\n",
        "        # Kelimenin eşanlamlılarını bulma\n",
        "        synonyms = get_synonyms(word, wordnet)\n",
        "        if synonyms:\n",
        "            # Eşanlamlılardan rastgele birini seçme\n",
        "            paraphrased_word = random.choice(synonyms)\n",
        "            paraphrased_sentence.append(paraphrased_word)\n",
        "        else:\n",
        "            # Eşanlamlı bulunamadıysa aynı kelimeyi kullanma\n",
        "            paraphrased_sentence.append(word)\n",
        "\n",
        "    # Paraphrase edilmiş cümleyi birleştirme\n",
        "    return ' '.join(paraphrased_sentence)\n",
        "\n",
        "def get_synonyms(word, wordnet):\n",
        "    # Belirli bir kelime için eşanlamlı kümeleri alma\n",
        "    synsets = wordnet.getSynSetsWithLiteral(word)\n",
        "    if not synsets:\n",
        "        return []  # Eşanlamlı küme bulunamadıysa boş liste döndür\n",
        "\n",
        "    # İlk eşanlamlı kümenin eşanlamlılarını alma\n",
        "    synonyms = synsets[0].getSynonym()\n",
        "\n",
        "    # Eşanlamlıları listelemek için bir liste oluşturma\n",
        "    synonym_list = []\n",
        "    for i in range(synonyms.literalSize()):\n",
        "        literal = synonyms.getLiteral(i)\n",
        "        synonym_list.append(literal.getName())\n",
        "\n",
        "    return synonym_list\n",
        "\n",
        "# Örnek kullanım\n",
        "original_sentence = \"Kırmızı bir balonu var\"\n",
        "paraphrased_sentence = paraphrase_sentence(original_sentence)\n",
        "print(\"Original Sentence:\", original_sentence)\n",
        "print(\"Paraphrased Sentence:\", paraphrased_sentence)\n"
      ],
      "metadata": {
        "colab": {
          "base_uri": "https://localhost:8080/"
        },
        "id": "rTeUluqCjis4",
        "outputId": "79fd4d22-fefc-4ad4-dd7e-201dcb1ab5db"
      },
      "execution_count": null,
      "outputs": [
        {
          "output_type": "stream",
          "name": "stdout",
          "text": [
            "Original Sentence: Kırmızı bir balonu var\n",
            "Paraphrased Sentence: Kırmızı bir balonu mevcut\n"
          ]
        }
      ]
    },
    {
      "cell_type": "code",
      "source": [
        "from WordNet.WordNet import WordNet\n",
        "import random\n",
        "import spacy\n",
        "\n",
        "def paraphrase_sentence(sentence):\n",
        "    # WordNet nesnesini oluşturma\n",
        "    wordnet = WordNet()\n",
        "\n",
        "    # Cümlenin kelimelerine ayırma\n",
        "    words = sentence.split()\n",
        "\n",
        "    paraphrased_sentence = []\n",
        "    for word in words:\n",
        "        # Kelimenin eşanlamlılarını bulma\n",
        "        synonyms = get_synonyms(word, wordnet)\n",
        "        if synonyms:\n",
        "            # Eşanlamlılardan rastgele birini seçme\n",
        "            paraphrased_word = random.choice(synonyms)\n",
        "            paraphrased_sentence.append(paraphrased_word)\n",
        "        else:\n",
        "            # Eşanlamlı bulunamadıysa aynı kelimeyi kullanma\n",
        "            paraphrased_sentence.append(word)\n",
        "\n",
        "    # Paraphrase edilmiş cümleyi birleştirme\n",
        "    return ' '.join(paraphrased_sentence)\n",
        "\n",
        "def get_synonyms(word, wordnet):\n",
        "    # Belirli bir kelime için eşanlamlı kümeleri alma\n",
        "    synsets = wordnet.getSynSetsWithLiteral(word)\n",
        "    if not synsets:\n",
        "        return []  # Eşanlamlı küme bulunamadıysa boş liste döndür\n",
        "\n",
        "    # İlk eşanlamlı kümenin eşanlamlılarını alma\n",
        "    synonyms = synsets[0].getSynonym()\n",
        "\n",
        "    # Eşanlamlıları listelemek için bir liste oluşturma\n",
        "    synonym_list = []\n",
        "    for i in range(synonyms.literalSize()):\n",
        "        literal = synonyms.getLiteral(i)\n",
        "        synonym_list.append(literal.getName())\n",
        "\n",
        "    return synonym_list\n",
        "\n",
        "\n",
        "# Örnek kullanım\n",
        "original_sentence = \" iyi yürekli bir insan \"\n",
        "paraphrased_sentence = paraphrase_sentence(original_sentence)\n",
        "\n",
        "\n",
        "print(\"Original Sentence:\", original_sentence)\n",
        "print(\"Paraphrased Sentence:\", paraphrased_sentence)\n"
      ],
      "metadata": {
        "colab": {
          "base_uri": "https://localhost:8080/"
        },
        "id": "O7TmdHUV9PV9",
        "outputId": "03a7c31e-4045-462b-9ab8-e89a14d6e981"
      },
      "execution_count": null,
      "outputs": [
        {
          "output_type": "stream",
          "name": "stdout",
          "text": [
            "Original Sentence:  iyi yürekli bir insan \n",
            "Paraphrased Sentence: müfit cesaretli 1 insan\n"
          ]
        }
      ]
    },
    {
      "cell_type": "code",
      "source": [
        "!pip install NlpToolkit-WordNet\n",
        "\n",
        "from WordNet.WordNet import WordNet\n",
        "import random\n",
        "\n",
        "def get_lemma(original_sentence):\n",
        "    # Cümleyi analiz etme\n",
        "    doc = nlp(original_sentence)\n",
        "\n",
        "    # Kelimelerin köklerini bulma\n",
        "    lemmas = [token.lemma_ for token in doc]\n",
        "\n",
        "    return lemmas\n",
        "lemmas = get_lemma(original_sentence)\n",
        "\n",
        "\n",
        "def paraphrase_sentence(sentence):\n",
        "    # WordNet nesnesini oluşturma\n",
        "    wordnet = WordNet()\n",
        "\n",
        "    # Cümlenin kelimelerine ayırma\n",
        "    words = sentence.split()\n",
        "\n",
        "    paraphrased_sentence = []\n",
        "    for word in words:\n",
        "        # Kelimenin eşanlamlılarını bulma\n",
        "        synonyms = get_synonyms(word, wordnet)\n",
        "        if synonyms:\n",
        "            # Eşanlamlılardan rastgele birini seçme\n",
        "            paraphrased_word = random.choice(synonyms)\n",
        "            paraphrased_sentence.append(paraphrased_word)\n",
        "        else:\n",
        "            # Eşanlamlı bulunamadıysa aynı kelimeyi kullanma\n",
        "            paraphrased_sentence.append(word)\n",
        "\n",
        "    # Paraphrase edilmiş cümleyi birleştirme\n",
        "    return ' '.join(paraphrased_sentence)\n",
        "\n",
        "def get_synonyms(word, wordnet):\n",
        "    # Belirli bir kelime için eşanlamlı kümeleri alma\n",
        "    synsets = wordnet.getSynSetsWithLiteral(word)\n",
        "    if not synsets:\n",
        "        return []  # Eşanlamlı küme bulunamadıysa boş liste döndür\n",
        "\n",
        "    # İlk eşanlamlı kümenin eşanlamlılarını alma\n",
        "    synonyms = synsets[0].getSynonym()\n",
        "\n",
        "    # Eşanlamlıları listelemek için bir liste oluşturma\n",
        "    synonym_list = []\n",
        "    for i in range(synonyms.literalSize()):\n",
        "        literal = synonyms.getLiteral(i)\n",
        "        synonym_list.append(literal.getName())\n",
        "\n",
        "    return synonym_list\n",
        "\n",
        "\n",
        "# Örnek kullanım\n",
        "original_sentence = \"zelzele oldu.\"\n",
        "paraphrased_sentence = paraphrase_sentence(original_sentence)\n",
        "\n",
        "print(\"Original Sentence:\", original_sentence)\n",
        "print(\"Paraphrased Sentence:\", paraphrased_sentence)"
      ],
      "metadata": {
        "colab": {
          "base_uri": "https://localhost:8080/"
        },
        "id": "73dybVlb0Em4",
        "outputId": "d4370611-ab04-41be-f447-62a0d2c8455d"
      },
      "execution_count": null,
      "outputs": [
        {
          "output_type": "stream",
          "name": "stdout",
          "text": [
            "Requirement already satisfied: NlpToolkit-WordNet in /usr/local/lib/python3.10/dist-packages (1.0.24)\n",
            "Requirement already satisfied: NlpToolkit-MorphologicalAnalysis in /usr/local/lib/python3.10/dist-packages (from NlpToolkit-WordNet) (1.0.47)\n",
            "Requirement already satisfied: NlpToolkit-Dictionary in /usr/local/lib/python3.10/dist-packages (from NlpToolkit-MorphologicalAnalysis->NlpToolkit-WordNet) (1.0.34)\n",
            "Requirement already satisfied: NlpToolkit-Corpus in /usr/local/lib/python3.10/dist-packages (from NlpToolkit-MorphologicalAnalysis->NlpToolkit-WordNet) (1.0.25)\n",
            "Requirement already satisfied: NlpToolkit-DataStructure in /usr/local/lib/python3.10/dist-packages (from NlpToolkit-MorphologicalAnalysis->NlpToolkit-WordNet) (1.0.14)\n",
            "Requirement already satisfied: NlpToolkit-Math in /usr/local/lib/python3.10/dist-packages (from NlpToolkit-Dictionary->NlpToolkit-MorphologicalAnalysis->NlpToolkit-WordNet) (1.0.18)\n",
            "Original Sentence: zelzele oldu.\n",
            "Paraphrased Sentence: deprem oldu.\n"
          ]
        }
      ]
    }
  ]
}